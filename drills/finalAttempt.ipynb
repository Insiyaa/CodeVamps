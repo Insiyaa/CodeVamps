{
 "cells": [
  {
   "cell_type": "code",
   "execution_count": 6,
   "metadata": {},
   "outputs": [],
   "source": [
    "from pydub import AudioSegment\n",
    "import speech_recognition as sr\n",
    "import re"
   ]
  },
  {
   "cell_type": "code",
   "execution_count": 8,
   "metadata": {},
   "outputs": [],
   "source": [
    "song = AudioSegment.from_mp3(\"audio1.mp3\")\n",
    "\n",
    "start_time = 13 * 1000\n",
    "\n",
    "audio = song[start_time:]\n",
    "song.export(\"final_au1.wav\", format=\"wav\")\n",
    "r = sr.Recognizer()\n",
    "audio1 = sr.AudioFile('final_au1.wav')\n",
    "with audio1 as source:\n",
    "    audio = r.record(source)\n",
    "    \n",
    "text = r.recognize_ibm(audio, username=\"918493fe-7aab-48af-bc21-fd414d43a0fe\", password=\"QSo5jRTeJdza\")"
   ]
  },
  {
   "cell_type": "code",
   "execution_count": 6,
   "metadata": {},
   "outputs": [
    {
     "data": {
      "text/plain": [
       "\"hello thank you for joining the senior management team of experts and basically run clothing manufacturer I'm Smith Mason chief executive officer of now like to invite my colleagues to introduce themselves \\nhi I'm Alex unlimited information \\nhi I'm Rachel and I work in administration \\nI am gonna nine had a fine I'm not the head of research \\nso the first item on the agenda is something that is useful to us as regarding Staal working from home but he can you give us a little bit of a background on some okay thanks and bye I've been talking to the team %HESITATION we had a stuff meeting last week announced they feel very strongly that they would really appreciate a field a section soak a view on stuff working from high as United they have slightly different jobs to some of my colleagues in that dialogue rising and not necessarily on serving the funds that they find it extremely difficult to concentrate in an office is busy that was on they'd like to feel that they are working from home was endorsed by some kind of policy view rather than something that was a base out whole Catherine's made to feel guilty about and something else to bring this issue to the senior management team lead off we've never objected to stop working from home the full if from time to time and is of your team wanted what I'm not that's fine I mean why do you feel that we need to put a policy in place regarding this I mean what time we just continue as we are facing a single we can \\nBucks I guess they feel that can be some nations I'm is some other colleagues may feel differently %HESITATION down there are probably some procedural issues about that practical things K. \\nwhat a real feel this what they think the \\nwell to me this is just another pine sky schemas group of Ford has anyone done any weapon costing all we can to providing computers for them there will be some insurance applications to I just don't think this is been very walkable town yeah costumes of certainly concerned anyone else \\nAlex how do you feel about this \\neither see costing is that much of an issue given the most of our members have computers I'm ready so that would be one less thing to worry about I think it's a very good idea for all members will some of our members to work from home be tiki ones with families as they would be able to have more input with them during the whole day period also fail they would be less stressed if I could do was hold something report like a big project from hi thank you for that \\nwhat is definitely an endorsement of X. which I actually work administration Conover because the pool so nineteen to work from home \\n%HESITATION I we have children to use that would be fed to one section of the team and \\nso I don't think it's a good idea to unless you want to present an image of a unique sinks and members of stuff \\nlike I say it's going to be difficult to make this the across the board \\nJohn %HESITATION regarding the insurance sign go would we be liable if %HESITATION invoices standin injure me yes that all of a sudden the health and safety implications here and I think we should look further into this before announces show okay well obviously we have relevant concerns on all sides Matthew had the feedback of what do you think \\nthe only additional thing I would say is that it is a competitive market town that %HESITATION and flexible working is increasingly something that happens in a kind of field and family friendly work means today do you think it's something we should look at that may be reasons as well I need to hear as to why it's not going to work but I do think it's something we should continue to explore because I think the team would feel very fed up with it was just built on the head of this point \\nwe are certainly have some very strong arguments in favor of increasing flexibility accommodating working parents islands were aware of how busy the office can get making a very difficult environment to what can \\nwe were called into the phones ring all the time and it's something that John I've been trying to address Sir yes there was suddenly positives except for when it comes to regions team where the %HESITATION proposal isn't so attractive and of course cost is a major concern I mean John I presented you with the financial statements for this year and we just need to be realistic about what we can change \\nserver moving forward \\ncan I also use of with John hops %HESITATION lookups are researching this proposal father look at other reservations I have taken this practice on board the Cole soon though %HESITATION in regards to insurance and then present to us with that information next meeting \\nyes bus fine job of the story yes that's fine okay well our next meeting is scheduled for four nights and you will give a joint presentation of what will and get together in Saturday so we talked for the next meeting escaped and doctor by accident well if that's all nice and move on to the next one which is the strategic plan not take everyone's with papers \""
      ]
     },
     "execution_count": 6,
     "metadata": {},
     "output_type": "execute_result"
    }
   ],
   "source": [
    "text"
   ]
  },
  {
   "cell_type": "code",
   "execution_count": 10,
   "metadata": {},
   "outputs": [],
   "source": [
    "from nltk.tag import StanfordNERTagger\n",
    "tagger = StanfordNERTagger('/home/insiyeah/stanford-ner/classifiers/english.all.3class.distsim.crf.ser.gz',\n",
    "                            '/home/insiyeah/stanford-ner/stanford-ner.jar', encoding='utf-8')\n",
    "tags = tagger.tag(text.split())\n",
    "ner_dict = {\"PERSON\":[], \"ORGANIZATION\":[], \"LOCATION\":[]}\n",
    "\n",
    "for tag in tags:\n",
    "    if tag[1] == \"PERSON\":\n",
    "        ner_dict[\"PERSON\"].append(tag[0])\n",
    "    elif tag[1] == \"ORGANIZATION\":\n",
    "        ner_dict[\"ORGANIZATION\"].append(tag[0])\n",
    "    elif tag[1] == \"LOCATION\":\n",
    "        ner_dict[\"LOCATION\"].append(tag[0])"
   ]
  },
  {
   "cell_type": "code",
   "execution_count": 11,
   "metadata": {},
   "outputs": [
    {
     "name": "stdout",
     "output_type": "stream",
     "text": [
      "{'PERSON': ['Alex', 'Rachel', 'Staal', 'Alex', 'Conover', 'Matthew', 'John', \"I've\", 'John', 'John'], 'ORGANIZATION': [\"I'm\", 'Smith', 'Mason', 'United', 'Ford'], 'LOCATION': []}\n"
     ]
    }
   ],
   "source": [
    "print(ner_dict)"
   ]
  },
  {
   "cell_type": "code",
   "execution_count": 13,
   "metadata": {},
   "outputs": [
    {
     "data": {
      "text/plain": [
       "368"
      ]
     },
     "execution_count": 13,
     "metadata": {},
     "output_type": "execute_result"
    }
   ],
   "source": [
    "text.find('agenda')"
   ]
  },
  {
   "cell_type": "code",
   "execution_count": 22,
   "metadata": {},
   "outputs": [
    {
     "data": {
      "text/plain": [
       "'agenda is something that is useful to us as regarding Staal working from home'"
      ]
     },
     "execution_count": 22,
     "metadata": {},
     "output_type": "execute_result"
    }
   ],
   "source": [
    "text[368: 445]"
   ]
  },
  {
   "cell_type": "code",
   "execution_count": 28,
   "metadata": {},
   "outputs": [],
   "source": [
    "text = re.sub('(\\s)%\\w+', '', text, flags=re.IGNORECASE)"
   ]
  },
  {
   "cell_type": "code",
   "execution_count": 38,
   "metadata": {},
   "outputs": [
    {
     "data": {
      "text/plain": [
       "1351"
      ]
     },
     "execution_count": 38,
     "metadata": {},
     "output_type": "execute_result"
    }
   ],
   "source": [
    "text.find('need')"
   ]
  },
  {
   "cell_type": "code",
   "execution_count": 41,
   "metadata": {},
   "outputs": [
    {
     "data": {
      "text/plain": [
       "'need to put a policy in place'"
      ]
     },
     "execution_count": 41,
     "metadata": {},
     "output_type": "execute_result"
    }
   ],
   "source": [
    "text[1351:1380]"
   ]
  },
  {
   "cell_type": "code",
   "execution_count": 52,
   "metadata": {},
   "outputs": [
    {
     "name": "stdout",
     "output_type": "stream",
     "text": [
      "2018-10-06\n"
     ]
    }
   ],
   "source": [
    "import datetime\n",
    "print(datetime.datetime.now().date())"
   ]
  },
  {
   "cell_type": "code",
   "execution_count": null,
   "metadata": {},
   "outputs": [],
   "source": [
    "\n",
    "r = sr.Recognizer()\n",
    "\n",
    "with audio_file as source:\n",
    "    audio = r.record(source)\n",
    "\n",
    "text = r.recognize_ibm(audio, username=\"918493fe-7aab-48af-bc21-fd414d43a0fe\", password=\"QSo5jRTeJdza\")\n",
    "text = re.sub('(\\s)%\\w+', '', text, flags=re.IGNORECASE)\n",
    "text.replace(\"Staal\", 'staff')\n",
    "# print(text)\n",
    "summary = summarize(text, ratio=0.20)\n",
    "summary_print = summarize(text, ratio=0.15)\n",
    "\n",
    "from nltk.tag import StanfordNERTagger\n",
    "tagger = StanfordNERTagger('/home/insiyeah/stanford-ner/classifiers/english.all.3class.distsim.crf.ser.gz',\n",
    "                            '/home/insiyeah/stanford-ner/stanford-ner.jar', encoding='utf-8')\n",
    "tags = tagger.tag(text)\n",
    "ner_dict = {\"PERSON\":[], \"ORGANIZATION\":[], \"LOCATION\":[]}\n",
    "\n",
    "for tag in tags:\n",
    "    if tag[1] == \"PERSON\":\n",
    "        ner_dict[\"PERSON\"].append(tag[0])\n",
    "    elif tag[1] == \"ORGANIZATION\":\n",
    "        ner_dict[\"ORGANIZATION\"].append(tag[0])\n",
    "    elif tag[1] == \"LOCATION\":\n",
    "        ner_dict[\"LOCATION\"].append(tag[0])\n",
    "\n",
    "persons = list(set(ner_dict[\"PERSON\"]))\n",
    "if \"I've\" in persons:\n",
    "    persons.remove(\"I've\")\n",
    "\n",
    "persons = \", \".join(persons)\n",
    "locs = \", \".join(list(set(ner_dict[\"LOCATION\"])))\n",
    "orgs = \", \".join(list(set(ner_dict[\"ORGANIZATION\"])))\n",
    "\n",
    "aloc = text.find('agenda')\n",
    "agenda = text[aloc:aloc+77]\n",
    "\n",
    "actn = text.find('need')\n",
    "text[actn:1380]\n",
    "dtime = str(datetime.datetime.now().date())\n",
    "flash_data = \"<b> The Agenda is: </b>\" + str(agenda) + \"<b>Actions Required: </b>\" + str(actn) + \".<br>\" + \"Some important tags are: <br>\" + \"Person involved: \" + str(persons) + \"<br>\"+ \"Locations discussed: \" + str(locs) + \"<br>\" + \"Organizations: \" + str(orgs) + \".<br> <i>Date: \" + dtime + \"</i>\"\n",
    "\n",
    "flash(flash_data)\n",
    "\n",
    "\n",
    "sync_data = \"The Agenda is:\\n\" + agenda + \"Actions Required: \\n\" + actn + \".\\n\" + \"Some important tags are: \\n\" + \"Person involved: \" + persons + \"\\n\"+ \"Locations discussed: \" + locs + \"\\n\" + \"Organizations: \" + orgs + \"\\n.Date: \" + dtime + \".\"\n"
   ]
  },
  {
   "cell_type": "code",
   "execution_count": 9,
   "metadata": {},
   "outputs": [],
   "source": [
    "text = \"hello thank you for joining the senior management team of experts and basically run clothing manufacturer I'm Smith Mason chief executive officer of now like to invite my colleagues to introduce themselves \\nhi I'm Alex unlimited information \\nhi I'm Rachel and I work in administration \\nI am gonna nine had a fine I'm not the head of research \\nso the first item on the agenda is something that is useful to us as regarding Staal working from home but he can you give us a little bit of a background on some okay thanks and bye I've been talking to the team %HESITATION we had a stuff meeting last week announced they feel very strongly that they would really appreciate a field a section soak a view on stuff working from high as United they have slightly different jobs to some of my colleagues in that dialogue rising and not necessarily on serving the funds that they find it extremely difficult to concentrate in an office is busy that was on they'd like to feel that they are working from home was endorsed by some kind of policy view rather than something that was a base out whole Catherine's made to feel guilty about and something else to bring this issue to the senior management team lead off we've never objected to stop working from home the full if from time to time and is of your team wanted what I'm not that's fine I mean why do you feel that we need to put a policy in place regarding this I mean what time we just continue as we are facing a single we can \\nBucks I guess they feel that can be some nations I'm is some other colleagues may feel differently %HESITATION down there are probably some procedural issues about that practical things K. \\nwhat a real feel this what they think the \\nwell to me this is just another pine sky schemas group of Ford has anyone done any weapon costing all we can to providing computers for them there will be some insurance applications to I just don't think this is been very walkable town yeah costumes of certainly concerned anyone else \\nAlex how do you feel about this \\neither see costing is that much of an issue given the most of our members have computers I'm ready so that would be one less thing to worry about I think it's a very good idea for all members will some of our members to work from home be tiki ones with families as they would be able to have more input with them during the whole day period also fail they would be less stressed if I could do was hold something report like a big project from hi thank you for that \\nwhat is definitely an endorsement of X. which I actually work administration Conover because the pool so nineteen to work from home \\n%HESITATION I we have children to use that would be fed to one section of the team and \\nso I don't think it's a good idea to unless you want to present an image of a unique sinks and members of stuff \\nlike I say it's going to be difficult to make this the across the board \\nJohn %HESITATION regarding the insurance sign go would we be liable if %HESITATION invoices standin injure me yes that all of a sudden the health and safety implications here and I think we should look further into this before announces show okay well obviously we have relevant concerns on all sides Matthew had the feedback of what do you think \\nthe only additional thing I would say is that it is a competitive market town that %HESITATION and flexible working is increasingly something that happens in a kind of field and family friendly work means today do you think it's something we should look at that may be reasons as well I need to hear as to why it's not going to work but I do think it's something we should continue to explore because I think the team would feel very fed up with it was just built on the head of this point \\nwe are certainly have some very strong arguments in favor of increasing flexibility accommodating working parents islands were aware of how busy the office can get making a very difficult environment to what can \\nwe were called into the phones ring all the time and it's something that John I've been trying to address Sir yes there was suddenly positives except for when it comes to regions team where the %HESITATION proposal isn't so attractive and of course cost is a major concern I mean John I presented you with the financial statements for this year and we just need to be realistic about what we can change \\nserver moving forward \\ncan I also use of with John hops %HESITATION lookups are researching this proposal father look at other reservations I have taken this practice on board the Cole soon though %HESITATION in regards to insurance and then present to us with that information next meeting \\nyes bus fine job of the story yes that's fine okay well our next meeting is scheduled for four nights and you will give a joint presentation of what will and get together in Saturday so we talked for the next meeting escaped and doctor by accident well if that's all nice and move on to the next one which is the strategic plan not take everyone's with papers \""
   ]
  },
  {
   "cell_type": "code",
   "execution_count": 19,
   "metadata": {},
   "outputs": [],
   "source": [
    "text = re.sub('(\\s)%\\w+', '', text, flags=re.IGNORECASE)\n",
    "text = text.replace(\"Staal\", 'staff')\n",
    "from nltk.tag import StanfordNERTagger\n",
    "tagger = StanfordNERTagger('/home/insiyeah/stanford-ner/classifiers/english.all.3class.distsim.crf.ser.gz',\n",
    "                            '/home/insiyeah/stanford-ner/stanford-ner.jar', encoding='utf-8')\n",
    "tags = tagger.tag(text.split())\n",
    "ner_dict = {\"PERSON\":[], \"ORGANIZATION\":[], \"LOCATION\":[]}\n",
    "\n",
    "for tag in tags:\n",
    "    if tag[1] == \"PERSON\":\n",
    "        ner_dict[\"PERSON\"].append(tag[0])\n",
    "    elif tag[1] == \"ORGANIZATION\":\n",
    "        ner_dict[\"ORGANIZATION\"].append(tag[0])\n",
    "    elif tag[1] == \"LOCATION\":\n",
    "        ner_dict[\"LOCATION\"].append(tag[0])\n",
    "\n",
    "persons = list(set(ner_dict[\"PERSON\"]))\n",
    "if \"I've\" in persons:\n",
    "    persons.remove(\"I've\")\n",
    "orgs = list(set(ner_dict[\"ORGANIZATION\"]))\n",
    "if \"I'm\" in orgs:\n",
    "    orgs.remove(\"I'm\")\n",
    "\n",
    "persons = \", \".join(persons)\n",
    "locs = \", \".join(list(set(ner_dict[\"LOCATION\"])))\n",
    "orgs = \", \".join(orgs)\n",
    "\n",
    "aloc = text.find('agenda')\n",
    "agenda = text[aloc+10:aloc+77]\n",
    "\n",
    "actn = text.find('need')\n",
    "actn = text[actn:1380]\n",
    "dtime = str(datetime.datetime.now().date())\n",
    "flash_data = \"<b> The Agenda is: </b>\" + str(agenda) + \"<b>Actions Required: </b>\" + str(actn) + \".<br>\" + \"Some important tags are: <br>\" + \"Person involved: \" + str(persons) + \"<br>\"+ \"Locations discussed: \" + str(locs) + \"<br>\" + \"Organizations: \" + str(orgs) + \".<br> <i>Date: \" + dtime + \"</i>\"\n"
   ]
  },
  {
   "cell_type": "code",
   "execution_count": 20,
   "metadata": {},
   "outputs": [],
   "source": [
    "import datetime"
   ]
  },
  {
   "cell_type": "code",
   "execution_count": 21,
   "metadata": {},
   "outputs": [
    {
     "data": {
      "text/plain": [
       "'<b> The Agenda is: </b>something that is useful to us as regarding staff working from home<b>Actions Required: </b>need to put a policy in place.<br>Some important tags are: <br>Person involved: Matthew, Conover, Rachel, John, Alex<br>Locations discussed: <br>Organizations: Ford, Mason, Smith, United.<br> <i>Date: 2018-10-06</i>'"
      ]
     },
     "execution_count": 21,
     "metadata": {},
     "output_type": "execute_result"
    }
   ],
   "source": [
    "flash_data"
   ]
  },
  {
   "cell_type": "code",
   "execution_count": null,
   "metadata": {},
   "outputs": [],
   "source": []
  }
 ],
 "metadata": {
  "kernelspec": {
   "display_name": "Python 3",
   "language": "python",
   "name": "python3"
  },
  "language_info": {
   "codemirror_mode": {
    "name": "ipython",
    "version": 3
   },
   "file_extension": ".py",
   "mimetype": "text/x-python",
   "name": "python",
   "nbconvert_exporter": "python",
   "pygments_lexer": "ipython3",
   "version": "3.6.5"
  }
 },
 "nbformat": 4,
 "nbformat_minor": 2
}
